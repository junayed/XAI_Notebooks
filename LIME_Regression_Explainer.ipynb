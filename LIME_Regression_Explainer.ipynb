{
 "cells": [
  {
   "cell_type": "markdown",
   "metadata": {},
   "source": [
    "# SP LIME"
   ]
  },
  {
   "cell_type": "markdown",
   "metadata": {},
   "source": [
    "Regression explainer with boston housing prices dataset"
   ]
  },
  {
   "cell_type": "code",
   "execution_count": 1,
   "metadata": {},
   "outputs": [],
   "source": [
    "from sklearn.datasets import load_boston\n",
    "import sklearn.ensemble\n",
    "import sklearn.linear_model\n",
    "import sklearn.model_selection\n",
    "import numpy as np\n",
    "from sklearn.metrics import r2_score"
   ]
  },
  {
   "cell_type": "code",
   "execution_count": 2,
   "metadata": {},
   "outputs": [],
   "source": [
    "np.random.seed(100)"
   ]
  },
  {
   "cell_type": "code",
   "execution_count": 3,
   "metadata": {},
   "outputs": [],
   "source": [
    "#load example dataset\n",
    "boston = load_boston()"
   ]
  },
  {
   "cell_type": "code",
   "execution_count": 4,
   "metadata": {},
   "outputs": [
    {
     "name": "stdout",
     "output_type": "stream",
     "text": [
      "Boston House Prices dataset\n",
      "===========================\n",
      "\n",
      "Notes\n",
      "------\n",
      "Data Set Characteristics:  \n",
      "\n",
      "    :Number of Instances: 506 \n",
      "\n",
      "    :Number of Attributes: 13 numeric/categorical predictive\n",
      "    \n",
      "    :Median Value (attribute 14) is usually the target\n",
      "\n",
      "    :Attribute Information (in order):\n",
      "        - CRIM     per capita crime rate by town\n",
      "        - ZN       proportion of residential land zoned for lots over 25,000 sq.ft.\n",
      "        - INDUS    proportion of non-retail business acres per town\n",
      "        - CHAS     Charles River dummy variable (= 1 if tract bounds river; 0 otherwise)\n",
      "        - NOX      nitric oxides concentration (parts per 10 million)\n",
      "        - RM       average number of rooms per dwelling\n",
      "        - AGE      proportion of owner-occupied units built prior to 1940\n",
      "        - DIS      weighted distances to five Boston employment centres\n",
      "        - RAD      index of accessibility to radial highways\n",
      "        - TAX      full-value property-tax rate per $10,000\n",
      "        - PTRATIO  pupil-teacher ratio by town\n",
      "        - B        1000(Bk - 0.63)^2 where Bk is the proportion of blacks by town\n",
      "        - LSTAT    % lower status of the population\n",
      "        - MEDV     Median value of owner-occupied homes in $1000's\n",
      "\n",
      "    :Missing Attribute Values: None\n",
      "\n",
      "    :Creator: Harrison, D. and Rubinfeld, D.L.\n",
      "\n",
      "This is a copy of UCI ML housing dataset.\n",
      "http://archive.ics.uci.edu/ml/datasets/Housing\n",
      "\n",
      "\n",
      "This dataset was taken from the StatLib library which is maintained at Carnegie Mellon University.\n",
      "\n",
      "The Boston house-price data of Harrison, D. and Rubinfeld, D.L. 'Hedonic\n",
      "prices and the demand for clean air', J. Environ. Economics & Management,\n",
      "vol.5, 81-102, 1978.   Used in Belsley, Kuh & Welsch, 'Regression diagnostics\n",
      "...', Wiley, 1980.   N.B. Various transformations are used in the table on\n",
      "pages 244-261 of the latter.\n",
      "\n",
      "The Boston house-price data has been used in many machine learning papers that address regression\n",
      "problems.   \n",
      "     \n",
      "**References**\n",
      "\n",
      "   - Belsley, Kuh & Welsch, 'Regression diagnostics: Identifying Influential Data and Sources of Collinearity', Wiley, 1980. 244-261.\n",
      "   - Quinlan,R. (1993). Combining Instance-Based and Model-Based Learning. In Proceedings on the Tenth International Conference of Machine Learning, 236-243, University of Massachusetts, Amherst. Morgan Kaufmann.\n",
      "   - many more! (see http://archive.ics.uci.edu/ml/datasets/Housing)\n",
      "\n"
     ]
    }
   ],
   "source": [
    "#print a description of the variables\n",
    "print(boston.DESCR)"
   ]
  },
  {
   "cell_type": "code",
   "execution_count": 5,
   "metadata": {},
   "outputs": [],
   "source": [
    "#train a regressor\n",
    "rf = sklearn.ensemble.RandomForestRegressor(n_estimators=1000)\n",
    "train, test, labels_train, labels_test = sklearn.model_selection.train_test_split(boston.data, boston.target, train_size=0.80, test_size=0.20)\n",
    "rf.fit(train, labels_train);"
   ]
  },
  {
   "cell_type": "code",
   "execution_count": 6,
   "metadata": {},
   "outputs": [
    {
     "data": {
      "text/plain": [
       "LinearRegression(copy_X=True, fit_intercept=True, n_jobs=1, normalize=False)"
      ]
     },
     "execution_count": 6,
     "metadata": {},
     "output_type": "execute_result"
    }
   ],
   "source": [
    "#train a linear regressor\n",
    "lr = sklearn.linear_model.LinearRegression()\n",
    "lr.fit(train,labels_train)"
   ]
  },
  {
   "cell_type": "code",
   "execution_count": 7,
   "metadata": {},
   "outputs": [
    {
     "name": "stdout",
     "output_type": "stream",
     "text": [
      "Random Forest R^2 Score: 0.864\n",
      "Linear Regression R^2 Score: 0.56\n"
     ]
    }
   ],
   "source": [
    "#print the R^2 score of the random forest\n",
    "print(\"Random Forest R^2 Score: \" +str(round(r2_score(rf.predict(test),labels_test),3)))\n",
    "print(\"Linear Regression R^2 Score: \" +str(round(r2_score(lr.predict(test),labels_test),3)))"
   ]
  },
  {
   "cell_type": "code",
   "execution_count": 8,
   "metadata": {},
   "outputs": [],
   "source": [
    "import lime\n",
    "import lime.lime_tabular"
   ]
  },
  {
   "cell_type": "code",
   "execution_count": 9,
   "metadata": {},
   "outputs": [],
   "source": [
    "# generate an \"explainer\" object\n",
    "categorical_features  = np.argwhere(np.array([len(set(boston.data[:,x])) for x in range(boston.data.shape[1])]) <= 10).flatten()\n",
    "explainer = lime.lime_tabular.LimeTabularExplainer(train, feature_names=boston.feature_names, class_names=['price'], categorical_features=categorical_features, verbose=False, mode='regression',discretize_continuous=False)"
   ]
  },
  {
   "cell_type": "code",
   "execution_count": 15,
   "metadata": {},
   "outputs": [],
   "source": [
    "#generate an explanation\n",
    "i = 19\n",
    "exp = explainer.explain_instance(test[i], rf.predict, num_features=14)"
   ]
  },
  {
   "cell_type": "code",
   "execution_count": 16,
   "metadata": {},
   "outputs": [
    {
     "data": {
      "image/png": "[encoded data removed]",
      "text/plain": [
       "<Figure size 432x288 with 1 Axes>"
      ]
     },
     "metadata": {},
     "output_type": "display_data"
    }
   ],
   "source": [
    "%matplotlib inline\n",
    "fig = exp.as_pyplot_figure();"
   ]
  },
  {
   "cell_type": "code",
   "execution_count": 17,
   "metadata": {},
   "outputs": [
    {
     "name": "stdout",
     "output_type": "stream",
     "text": [
      "Input feature names: \n",
      "['CRIM' 'ZN' 'INDUS' 'CHAS' 'NOX' 'RM' 'AGE' 'DIS' 'RAD' 'TAX' 'PTRATIO'\n",
      " 'B' 'LSTAT']\n",
      "\n",
      "\n"
     ]
    }
   ],
   "source": [
    "print(\"Input feature names: \")\n",
    "print(boston.feature_names)\n",
    "print('\\n')"
   ]
  },
  {
   "cell_type": "code",
   "execution_count": 18,
   "metadata": {},
   "outputs": [
    {
     "name": "stdout",
     "output_type": "stream",
     "text": [
      "Input feature values: \n",
      "[   1.51902    0.        19.58       1.         0.605      8.375     93.9\n",
      "    2.162      5.       403.        14.7      388.45       3.32   ]\n",
      "\n",
      "\n"
     ]
    }
   ],
   "source": [
    "print(\"Input feature values: \")\n",
    "print(test[i])\n",
    "print('\\n')"
   ]
  },
  {
   "cell_type": "code",
   "execution_count": 19,
   "metadata": {},
   "outputs": [
    {
     "name": "stdout",
     "output_type": "stream",
     "text": [
      "Predicted: \n",
      "46.5283\n"
     ]
    }
   ],
   "source": [
    "print(\"Predicted: \")\n",
    "print(rf.predict(test)[i])"
   ]
  },
  {
   "cell_type": "markdown",
   "metadata": {},
   "source": [
    "# SP-LIME pick step"
   ]
  },
  {
   "cell_type": "markdown",
   "metadata": {},
   "source": [
    "Maximize the 'coverage' function:<br>\n",
    "\n",
    "##  $c(V,W,I) = \\sum_{j=1}^{d^{\\prime}}{\\mathbb{1}_{[\\exists i \\in V : W_{ij}>0]}I_j}$<br>\n",
    "\n",
    "\n",
    "$W = \\text{Explanation Matrix,  } n\\times d^{\\prime}$<br>\n",
    "\n",
    "$V = \\text{Set of chosen explanations}$<br>\n",
    "\n",
    "$I = \\text{Global feature importance vector,   } I_j = \\sqrt{\\sum_i{|W_{ij}|}}$<br>"
   ]
  },
  {
   "cell_type": "code",
   "execution_count": 20,
   "metadata": {},
   "outputs": [],
   "source": [
    "import lime"
   ]
  },
  {
   "cell_type": "code",
   "execution_count": 21,
   "metadata": {},
   "outputs": [],
   "source": [
    "import warnings\n",
    "from lime import submodular_pick\n",
    "sp_obj = submodular_pick.SubmodularPick(explainer, train, rf.predict, sample_size=20, num_features=14, num_exps_desired=5)"
   ]
  },
  {
   "cell_type": "code",
   "execution_count": 22,
   "metadata": {},
   "outputs": [
    {
     "data": {
      "image/png": "[encoded data removed]",
      "text/plain": [
       "<Figure size 432x288 with 1 Axes>"
      ]
     },
     "metadata": {},
     "output_type": "display_data"
    },
    {
     "data": {
      "image/png": "[encoded data removed]",
      "text/plain": [
       "<Figure size 432x288 with 1 Axes>"
      ]
     },
     "metadata": {},
     "output_type": "display_data"
    },
    {
     "data": {
      "image/png": "[encoded data removed]",
      "text/plain": [
       "<Figure size 432x288 with 1 Axes>"
      ]
     },
     "metadata": {},
     "output_type": "display_data"
    },
    {
     "data": {
      "image/png": "[encoded data removed]",
      "text/plain": [
       "<Figure size 432x288 with 1 Axes>"
      ]
     },
     "metadata": {},
     "output_type": "display_data"
    },
    {
     "data": {
      "image/png": "[encoded data removed]",
      "text/plain": [
       "<Figure size 432x288 with 1 Axes>"
      ]
     },
     "metadata": {},
     "output_type": "display_data"
    }
   ],
   "source": [
    "[exp.as_pyplot_figure() for exp in sp_obj.sp_explanations];"
   ]
  },
  {
   "cell_type": "code",
   "execution_count": 23,
   "metadata": {},
   "outputs": [],
   "source": [
    "import pandas as pd\n",
    "W=pd.DataFrame([dict(this.as_list()) for this in sp_obj.explanations])"
   ]
  },
  {
   "cell_type": "code",
   "execution_count": 24,
   "metadata": {},
   "outputs": [
    {
     "data": {
      "text/html": [
       "<div>\n",
       "<style scoped>\n",
       "    .dataframe tbody tr th:only-of-type {\n",
       "        vertical-align: middle;\n",
       "    }\n",
       "\n",
       "    .dataframe tbody tr th {\n",
       "        vertical-align: top;\n",
       "    }\n",
       "\n",
       "    .dataframe thead th {\n",
       "        text-align: right;\n",
       "    }\n",
       "</style>\n",
       "<table border=\"1\" class=\"dataframe\">\n",
       "  <thead>\n",
       "    <tr style=\"text-align: right;\">\n",
       "      <th></th>\n",
       "      <th>AGE</th>\n",
       "      <th>B</th>\n",
       "      <th>CHAS=0</th>\n",
       "      <th>CHAS=1</th>\n",
       "      <th>CRIM</th>\n",
       "      <th>DIS</th>\n",
       "      <th>INDUS</th>\n",
       "      <th>LSTAT</th>\n",
       "      <th>NOX</th>\n",
       "      <th>PTRATIO</th>\n",
       "      <th>RAD=24</th>\n",
       "      <th>RAD=3</th>\n",
       "      <th>RAD=4</th>\n",
       "      <th>RAD=5</th>\n",
       "      <th>RAD=6</th>\n",
       "      <th>RAD=7</th>\n",
       "      <th>RAD=8</th>\n",
       "      <th>RM</th>\n",
       "      <th>TAX</th>\n",
       "      <th>ZN</th>\n",
       "    </tr>\n",
       "  </thead>\n",
       "  <tbody>\n",
       "    <tr>\n",
       "      <th>0</th>\n",
       "      <td>-0.351930</td>\n",
       "      <td>0.090842</td>\n",
       "      <td>-0.019798</td>\n",
       "      <td>NaN</td>\n",
       "      <td>-0.074050</td>\n",
       "      <td>-1.308211</td>\n",
       "      <td>0.017637</td>\n",
       "      <td>-4.101481</td>\n",
       "      <td>-0.163953</td>\n",
       "      <td>-0.313455</td>\n",
       "      <td>NaN</td>\n",
       "      <td>0.015936</td>\n",
       "      <td>NaN</td>\n",
       "      <td>NaN</td>\n",
       "      <td>NaN</td>\n",
       "      <td>NaN</td>\n",
       "      <td>NaN</td>\n",
       "      <td>2.895017</td>\n",
       "      <td>-0.495832</td>\n",
       "      <td>0.129614</td>\n",
       "    </tr>\n",
       "    <tr>\n",
       "      <th>1</th>\n",
       "      <td>-0.297513</td>\n",
       "      <td>0.118132</td>\n",
       "      <td>-0.177672</td>\n",
       "      <td>NaN</td>\n",
       "      <td>-0.168182</td>\n",
       "      <td>-1.626719</td>\n",
       "      <td>0.049508</td>\n",
       "      <td>-4.251875</td>\n",
       "      <td>-0.087492</td>\n",
       "      <td>-0.330440</td>\n",
       "      <td>NaN</td>\n",
       "      <td>0.159901</td>\n",
       "      <td>NaN</td>\n",
       "      <td>NaN</td>\n",
       "      <td>NaN</td>\n",
       "      <td>NaN</td>\n",
       "      <td>NaN</td>\n",
       "      <td>2.299980</td>\n",
       "      <td>-0.582362</td>\n",
       "      <td>-0.050437</td>\n",
       "    </tr>\n",
       "    <tr>\n",
       "      <th>2</th>\n",
       "      <td>-0.312217</td>\n",
       "      <td>0.139535</td>\n",
       "      <td>0.068365</td>\n",
       "      <td>NaN</td>\n",
       "      <td>-0.053875</td>\n",
       "      <td>-1.548972</td>\n",
       "      <td>-0.066702</td>\n",
       "      <td>-4.048689</td>\n",
       "      <td>-0.069395</td>\n",
       "      <td>-0.251731</td>\n",
       "      <td>NaN</td>\n",
       "      <td>-0.217636</td>\n",
       "      <td>NaN</td>\n",
       "      <td>NaN</td>\n",
       "      <td>NaN</td>\n",
       "      <td>NaN</td>\n",
       "      <td>NaN</td>\n",
       "      <td>2.519128</td>\n",
       "      <td>-0.641214</td>\n",
       "      <td>-0.075010</td>\n",
       "    </tr>\n",
       "    <tr>\n",
       "      <th>3</th>\n",
       "      <td>-0.308761</td>\n",
       "      <td>0.291487</td>\n",
       "      <td>-0.100765</td>\n",
       "      <td>NaN</td>\n",
       "      <td>-0.178450</td>\n",
       "      <td>-2.096572</td>\n",
       "      <td>0.031170</td>\n",
       "      <td>-4.435489</td>\n",
       "      <td>-0.121612</td>\n",
       "      <td>-0.273185</td>\n",
       "      <td>NaN</td>\n",
       "      <td>NaN</td>\n",
       "      <td>NaN</td>\n",
       "      <td>NaN</td>\n",
       "      <td>-0.10359</td>\n",
       "      <td>NaN</td>\n",
       "      <td>NaN</td>\n",
       "      <td>2.126336</td>\n",
       "      <td>-0.495579</td>\n",
       "      <td>-0.065266</td>\n",
       "    </tr>\n",
       "    <tr>\n",
       "      <th>4</th>\n",
       "      <td>-0.249481</td>\n",
       "      <td>0.112304</td>\n",
       "      <td>0.041812</td>\n",
       "      <td>NaN</td>\n",
       "      <td>-0.259958</td>\n",
       "      <td>-1.865427</td>\n",
       "      <td>0.109295</td>\n",
       "      <td>-4.682192</td>\n",
       "      <td>-0.294242</td>\n",
       "      <td>-0.408271</td>\n",
       "      <td>0.335003</td>\n",
       "      <td>NaN</td>\n",
       "      <td>NaN</td>\n",
       "      <td>NaN</td>\n",
       "      <td>NaN</td>\n",
       "      <td>NaN</td>\n",
       "      <td>NaN</td>\n",
       "      <td>2.557929</td>\n",
       "      <td>-0.302038</td>\n",
       "      <td>0.015472</td>\n",
       "    </tr>\n",
       "  </tbody>\n",
       "</table>\n",
       "</div>"
      ],
      "text/plain": [
       "        AGE         B    CHAS=0  CHAS=1      CRIM       DIS     INDUS  \\\n",
       "0 -0.351930  0.090842 -0.019798     NaN -0.074050 -1.308211  0.017637   \n",
       "1 -0.297513  0.118132 -0.177672     NaN -0.168182 -1.626719  0.049508   \n",
       "2 -0.312217  0.139535  0.068365     NaN -0.053875 -1.548972 -0.066702   \n",
       "3 -0.308761  0.291487 -0.100765     NaN -0.178450 -2.096572  0.031170   \n",
       "4 -0.249481  0.112304  0.041812     NaN -0.259958 -1.865427  0.109295   \n",
       "\n",
       "      LSTAT       NOX   PTRATIO    RAD=24     RAD=3  RAD=4  RAD=5    RAD=6  \\\n",
       "0 -4.101481 -0.163953 -0.313455       NaN  0.015936    NaN    NaN      NaN   \n",
       "1 -4.251875 -0.087492 -0.330440       NaN  0.159901    NaN    NaN      NaN   \n",
       "2 -4.048689 -0.069395 -0.251731       NaN -0.217636    NaN    NaN      NaN   \n",
       "3 -4.435489 -0.121612 -0.273185       NaN       NaN    NaN    NaN -0.10359   \n",
       "4 -4.682192 -0.294242 -0.408271  0.335003       NaN    NaN    NaN      NaN   \n",
       "\n",
       "   RAD=7  RAD=8        RM       TAX        ZN  \n",
       "0    NaN    NaN  2.895017 -0.495832  0.129614  \n",
       "1    NaN    NaN  2.299980 -0.582362 -0.050437  \n",
       "2    NaN    NaN  2.519128 -0.641214 -0.075010  \n",
       "3    NaN    NaN  2.126336 -0.495579 -0.065266  \n",
       "4    NaN    NaN  2.557929 -0.302038  0.015472  "
      ]
     },
     "execution_count": 24,
     "metadata": {},
     "output_type": "execute_result"
    }
   ],
   "source": [
    "W.head()"
   ]
  },
  {
   "cell_type": "code",
   "execution_count": 25,
   "metadata": {},
   "outputs": [
    {
     "data": {
      "image/png": "[encoded data removed]",
      "text/plain": [
       "<Figure size 432x288 with 1 Axes>"
      ]
     },
     "metadata": {},
     "output_type": "display_data"
    }
   ],
   "source": [
    "im=W.hist('NOX',bins=20)"
   ]
  },
  {
   "cell_type": "markdown",
   "metadata": {},
   "source": [
    "## Text explainer using the newsgroups data"
   ]
  },
  {
   "cell_type": "code",
   "execution_count": 26,
   "metadata": {},
   "outputs": [],
   "source": [
    "import sklearn\n",
    "import numpy as np\n",
    "import sklearn\n",
    "import sklearn.ensemble\n",
    "import sklearn.metrics\n",
    "from __future__ import print_function"
   ]
  },
  {
   "cell_type": "code",
   "execution_count": 27,
   "metadata": {},
   "outputs": [],
   "source": [
    "from sklearn.datasets import fetch_20newsgroups\n",
    "categories = ['comp.os.ms-windows.misc','comp.sys.mac.hardware']\n",
    "newsgroups_train = fetch_20newsgroups(subset='train', categories=categories)\n",
    "newsgroups_test = fetch_20newsgroups(subset='test', categories=categories)\n",
    "class_names = ['windows', 'mac']"
   ]
  },
  {
   "cell_type": "code",
   "execution_count": 28,
   "metadata": {},
   "outputs": [],
   "source": [
    "vectorizer = sklearn.feature_extraction.text.TfidfVectorizer(lowercase=False)\n",
    "train_vectors = vectorizer.fit_transform(newsgroups_train.data)\n",
    "test_vectors = vectorizer.transform(newsgroups_test.data)"
   ]
  },
  {
   "cell_type": "code",
   "execution_count": 29,
   "metadata": {},
   "outputs": [
    {
     "data": {
      "text/plain": [
       "RandomForestClassifier(bootstrap=True, class_weight=None, criterion='gini',\n",
       "            max_depth=None, max_features='auto', max_leaf_nodes=None,\n",
       "            min_impurity_decrease=0.0, min_impurity_split=None,\n",
       "            min_samples_leaf=1, min_samples_split=2,\n",
       "            min_weight_fraction_leaf=0.0, n_estimators=500, n_jobs=1,\n",
       "            oob_score=False, random_state=None, verbose=0,\n",
       "            warm_start=False)"
      ]
     },
     "execution_count": 29,
     "metadata": {},
     "output_type": "execute_result"
    }
   ],
   "source": [
    "rf = sklearn.ensemble.RandomForestClassifier(n_estimators=500)\n",
    "rf.fit(train_vectors, newsgroups_train.target)"
   ]
  },
  {
   "cell_type": "code",
   "execution_count": 30,
   "metadata": {},
   "outputs": [
    {
     "data": {
      "text/plain": [
       "0.91919191919191912"
      ]
     },
     "execution_count": 30,
     "metadata": {},
     "output_type": "execute_result"
    }
   ],
   "source": [
    "pred = rf.predict(test_vectors)\n",
    "sklearn.metrics.f1_score(newsgroups_test.target, pred, average='binary')"
   ]
  },
  {
   "cell_type": "code",
   "execution_count": 31,
   "metadata": {},
   "outputs": [],
   "source": [
    "from lime import lime_text\n",
    "from sklearn.pipeline import make_pipeline\n",
    "c = make_pipeline(vectorizer, rf)"
   ]
  },
  {
   "cell_type": "code",
   "execution_count": 32,
   "metadata": {},
   "outputs": [],
   "source": [
    "from lime.lime_text import LimeTextExplainer\n",
    "explainer = LimeTextExplainer(class_names=class_names)"
   ]
  },
  {
   "cell_type": "code",
   "execution_count": 38,
   "metadata": {},
   "outputs": [
    {
     "name": "stderr",
     "output_type": "stream",
     "text": [
      "D:\\Installed\\Continuum\\anaconda3\\envs\\tensorflowpy3\\lib\\re.py:212: FutureWarning: split() requires a non-empty pattern match.\n",
      "  return _compile(pattern, flags).split(string, maxsplit)\n"
     ]
    },
    {
     "name": "stdout",
     "output_type": "stream",
     "text": [
      "Document id: 79\n",
      "Probability(mac) = 0.394\n",
      "True class: windows\n"
     ]
    }
   ],
   "source": [
    "idx = 79\n",
    "exp = explainer.explain_instance(newsgroups_test.data[idx], c.predict_proba, num_features=6)\n",
    "print('Document id: %d' % idx)\n",
    "print('Probability(mac) =', c.predict_proba([newsgroups_test.data[idx]])[0,1])\n",
    "print('True class: %s' % class_names[newsgroups_test.target[idx]])"
   ]
  },
  {
   "cell_type": "code",
   "execution_count": 39,
   "metadata": {},
   "outputs": [
    {
     "name": "stderr",
     "output_type": "stream",
     "text": [
      "D:\\Installed\\Continuum\\anaconda3\\envs\\tensorflowpy3\\lib\\re.py:212: FutureWarning: split() requires a non-empty pattern match.\n",
      "  return _compile(pattern, flags).split(string, maxsplit)\n"
     ]
    }
   ],
   "source": [
    "sp_obj = submodular_pick.SubmodularPick(explainer, newsgroups_test.data, c.predict_proba, sample_size=2, num_features=6,num_exps_desired=2)"
   ]
  },
  {
   "cell_type": "code",
   "execution_count": 40,
   "metadata": {},
   "outputs": [
    {
     "data": {
      "image/png": "[encoded data removed]",
      "text/plain": [
       "<Figure size 432x288 with 1 Axes>"
      ]
     },
     "metadata": {},
     "output_type": "display_data"
    },
    {
     "data": {
      "image/png": "[encoded data removed]",
      "text/plain": [
       "<Figure size 432x288 with 1 Axes>"
      ]
     },
     "metadata": {},
     "output_type": "display_data"
    }
   ],
   "source": [
    "[exp.as_pyplot_figure(label=exp.available_labels()[0]) for exp in sp_obj.sp_explanations];"
   ]
  },
  {
   "cell_type": "code",
   "execution_count": 41,
   "metadata": {},
   "outputs": [],
   "source": [
    "import pandas as pd\n",
    "Wn=pd.DataFrame([dict(this.as_list()) for this in sp_obj.explanations])"
   ]
  },
  {
   "cell_type": "code",
   "execution_count": 42,
   "metadata": {},
   "outputs": [
    {
     "data": {
      "text/html": [
       "<div>\n",
       "<style scoped>\n",
       "    .dataframe tbody tr th:only-of-type {\n",
       "        vertical-align: middle;\n",
       "    }\n",
       "\n",
       "    .dataframe tbody tr th {\n",
       "        vertical-align: top;\n",
       "    }\n",
       "\n",
       "    .dataframe thead th {\n",
       "        text-align: right;\n",
       "    }\n",
       "</style>\n",
       "<table border=\"1\" class=\"dataframe\">\n",
       "  <thead>\n",
       "    <tr style=\"text-align: right;\">\n",
       "      <th></th>\n",
       "      <th>Apple</th>\n",
       "      <th>DOS</th>\n",
       "      <th>Mac</th>\n",
       "      <th>NT</th>\n",
       "      <th>Quadra</th>\n",
       "      <th>SCSI</th>\n",
       "      <th>Windows</th>\n",
       "      <th>an</th>\n",
       "      <th>drive</th>\n",
       "      <th>power</th>\n",
       "      <th>the</th>\n",
       "    </tr>\n",
       "  </thead>\n",
       "  <tbody>\n",
       "    <tr>\n",
       "      <th>0</th>\n",
       "      <td>0.062572</td>\n",
       "      <td>NaN</td>\n",
       "      <td>0.063313</td>\n",
       "      <td>NaN</td>\n",
       "      <td>0.042365</td>\n",
       "      <td>NaN</td>\n",
       "      <td>NaN</td>\n",
       "      <td>0.031796</td>\n",
       "      <td>NaN</td>\n",
       "      <td>0.042086</td>\n",
       "      <td>0.036366</td>\n",
       "    </tr>\n",
       "    <tr>\n",
       "      <th>1</th>\n",
       "      <td>NaN</td>\n",
       "      <td>-0.03595</td>\n",
       "      <td>NaN</td>\n",
       "      <td>-0.02657</td>\n",
       "      <td>NaN</td>\n",
       "      <td>0.038024</td>\n",
       "      <td>-0.062567</td>\n",
       "      <td>NaN</td>\n",
       "      <td>0.029739</td>\n",
       "      <td>NaN</td>\n",
       "      <td>0.025986</td>\n",
       "    </tr>\n",
       "  </tbody>\n",
       "</table>\n",
       "</div>"
      ],
      "text/plain": [
       "      Apple      DOS       Mac       NT    Quadra      SCSI   Windows  \\\n",
       "0  0.062572      NaN  0.063313      NaN  0.042365       NaN       NaN   \n",
       "1       NaN -0.03595       NaN -0.02657       NaN  0.038024 -0.062567   \n",
       "\n",
       "         an     drive     power       the  \n",
       "0  0.031796       NaN  0.042086  0.036366  \n",
       "1       NaN  0.029739       NaN  0.025986  "
      ]
     },
     "execution_count": 42,
     "metadata": {},
     "output_type": "execute_result"
    }
   ],
   "source": [
    "Wn.head()"
   ]
  },
  {
   "cell_type": "markdown",
   "metadata": {},
   "source": [
    "# Text explainer using the Iris data"
   ]
  },
  {
   "cell_type": "code",
   "execution_count": 45,
   "metadata": {},
   "outputs": [],
   "source": [
    "from sklearn.datasets import load_iris\n",
    "from sklearn.model_selection import train_test_split as tts\n",
    "from sklearn.ensemble import RandomForestClassifier"
   ]
  },
  {
   "cell_type": "code",
   "execution_count": 46,
   "metadata": {},
   "outputs": [],
   "source": [
    "iris=load_iris()"
   ]
  },
  {
   "cell_type": "code",
   "execution_count": 47,
   "metadata": {},
   "outputs": [],
   "source": [
    "Xtrain,Xtest,ytrain,ytest=tts(iris.data,iris.target,test_size=.2)"
   ]
  },
  {
   "cell_type": "code",
   "execution_count": 48,
   "metadata": {},
   "outputs": [
    {
     "data": {
      "text/plain": [
       "0.90000000000000002"
      ]
     },
     "execution_count": 48,
     "metadata": {},
     "output_type": "execute_result"
    }
   ],
   "source": [
    "rf=RandomForestClassifier()\n",
    "rf.fit(Xtrain,ytrain)\n",
    "rf.score(Xtest,ytest)"
   ]
  },
  {
   "cell_type": "code",
   "execution_count": 49,
   "metadata": {},
   "outputs": [],
   "source": [
    "explainer = lime.lime_tabular.LimeTabularExplainer(Xtrain, \n",
    "                                                   feature_names=iris.feature_names,\n",
    "                                                   class_names=iris.target_names, \n",
    "                                                   verbose=False, \n",
    "                                                   mode='classification',\n",
    "                                                   discretize_continuous=False)"
   ]
  },
  {
   "cell_type": "code",
   "execution_count": 50,
   "metadata": {},
   "outputs": [
    {
     "data": {
      "text/plain": [
       "[2, 1, 0]"
      ]
     },
     "execution_count": 50,
     "metadata": {},
     "output_type": "execute_result"
    }
   ],
   "source": [
    "exp=explainer.explain_instance(Xtrain[i],rf.predict_proba,top_labels=3)\n",
    "exp.available_labels()"
   ]
  },
  {
   "cell_type": "code",
   "execution_count": 51,
   "metadata": {},
   "outputs": [],
   "source": [
    "sp_obj = submodular_pick.SubmodularPick(data=Xtrain,explainer=explainer,num_exps_desired=5,predict_fn=rf.predict_proba, sample_size=20, num_features=4, top_labels=3)"
   ]
  },
  {
   "cell_type": "code",
   "execution_count": 52,
   "metadata": {},
   "outputs": [],
   "source": [
    "import pandas as pd"
   ]
  },
  {
   "cell_type": "code",
   "execution_count": 53,
   "metadata": {},
   "outputs": [],
   "source": [
    "df=pd.DataFrame({})"
   ]
  },
  {
   "cell_type": "code",
   "execution_count": 54,
   "metadata": {},
   "outputs": [],
   "source": [
    "for this_label in range(3):\n",
    "    dfl=[]\n",
    "    for i,exp in enumerate(sp_obj.sp_explanations):\n",
    "        l=exp.as_list(label=this_label)\n",
    "        l.append((\"exp number\",i))\n",
    "        dfl.append(dict(l))\n",
    "    dftest=pd.DataFrame(dfl)\n",
    "    df=df.append(pd.DataFrame(dfl,index=[iris.target_names[this_label] for i in range(len(sp_obj.sp_explanations))]))"
   ]
  },
  {
   "cell_type": "code",
   "execution_count": 55,
   "metadata": {},
   "outputs": [
    {
     "data": {
      "text/html": [
       "<div>\n",
       "<style scoped>\n",
       "    .dataframe tbody tr th:only-of-type {\n",
       "        vertical-align: middle;\n",
       "    }\n",
       "\n",
       "    .dataframe tbody tr th {\n",
       "        vertical-align: top;\n",
       "    }\n",
       "\n",
       "    .dataframe thead th {\n",
       "        text-align: right;\n",
       "    }\n",
       "</style>\n",
       "<table border=\"1\" class=\"dataframe\">\n",
       "  <thead>\n",
       "    <tr style=\"text-align: right;\">\n",
       "      <th></th>\n",
       "      <th>exp number</th>\n",
       "      <th>petal length (cm)</th>\n",
       "      <th>petal width (cm)</th>\n",
       "      <th>sepal length (cm)</th>\n",
       "      <th>sepal width (cm)</th>\n",
       "    </tr>\n",
       "  </thead>\n",
       "  <tbody>\n",
       "    <tr>\n",
       "      <th>setosa</th>\n",
       "      <td>0</td>\n",
       "      <td>-0.172834</td>\n",
       "      <td>-0.090150</td>\n",
       "      <td>-0.010321</td>\n",
       "      <td>0.001142</td>\n",
       "    </tr>\n",
       "    <tr>\n",
       "      <th>setosa</th>\n",
       "      <td>1</td>\n",
       "      <td>-0.200180</td>\n",
       "      <td>-0.122325</td>\n",
       "      <td>-0.007804</td>\n",
       "      <td>-0.000237</td>\n",
       "    </tr>\n",
       "    <tr>\n",
       "      <th>setosa</th>\n",
       "      <td>2</td>\n",
       "      <td>-0.291238</td>\n",
       "      <td>-0.131178</td>\n",
       "      <td>-0.017850</td>\n",
       "      <td>0.010798</td>\n",
       "    </tr>\n",
       "    <tr>\n",
       "      <th>setosa</th>\n",
       "      <td>3</td>\n",
       "      <td>-0.301831</td>\n",
       "      <td>-0.150588</td>\n",
       "      <td>-0.024412</td>\n",
       "      <td>0.005833</td>\n",
       "    </tr>\n",
       "    <tr>\n",
       "      <th>setosa</th>\n",
       "      <td>4</td>\n",
       "      <td>-0.125896</td>\n",
       "      <td>-0.080238</td>\n",
       "      <td>-0.007582</td>\n",
       "      <td>0.003000</td>\n",
       "    </tr>\n",
       "    <tr>\n",
       "      <th>versicolor</th>\n",
       "      <td>0</td>\n",
       "      <td>-0.090293</td>\n",
       "      <td>-0.144014</td>\n",
       "      <td>-0.025449</td>\n",
       "      <td>0.008475</td>\n",
       "    </tr>\n",
       "    <tr>\n",
       "      <th>versicolor</th>\n",
       "      <td>1</td>\n",
       "      <td>-0.049921</td>\n",
       "      <td>-0.070305</td>\n",
       "      <td>-0.028795</td>\n",
       "      <td>0.004112</td>\n",
       "    </tr>\n",
       "    <tr>\n",
       "      <th>versicolor</th>\n",
       "      <td>2</td>\n",
       "      <td>0.139487</td>\n",
       "      <td>-0.005247</td>\n",
       "      <td>-0.004126</td>\n",
       "      <td>-0.015789</td>\n",
       "    </tr>\n",
       "    <tr>\n",
       "      <th>versicolor</th>\n",
       "      <td>3</td>\n",
       "      <td>0.156786</td>\n",
       "      <td>0.036237</td>\n",
       "      <td>0.006380</td>\n",
       "      <td>-0.005437</td>\n",
       "    </tr>\n",
       "    <tr>\n",
       "      <th>versicolor</th>\n",
       "      <td>4</td>\n",
       "      <td>-0.156424</td>\n",
       "      <td>-0.161460</td>\n",
       "      <td>-0.033670</td>\n",
       "      <td>0.010505</td>\n",
       "    </tr>\n",
       "    <tr>\n",
       "      <th>virginica</th>\n",
       "      <td>0</td>\n",
       "      <td>0.263127</td>\n",
       "      <td>0.234164</td>\n",
       "      <td>0.035770</td>\n",
       "      <td>-0.009617</td>\n",
       "    </tr>\n",
       "    <tr>\n",
       "      <th>virginica</th>\n",
       "      <td>1</td>\n",
       "      <td>0.250101</td>\n",
       "      <td>0.192630</td>\n",
       "      <td>0.036599</td>\n",
       "      <td>-0.003875</td>\n",
       "    </tr>\n",
       "    <tr>\n",
       "      <th>virginica</th>\n",
       "      <td>2</td>\n",
       "      <td>0.151751</td>\n",
       "      <td>0.136426</td>\n",
       "      <td>0.021976</td>\n",
       "      <td>0.004991</td>\n",
       "    </tr>\n",
       "    <tr>\n",
       "      <th>virginica</th>\n",
       "      <td>3</td>\n",
       "      <td>0.145045</td>\n",
       "      <td>0.114351</td>\n",
       "      <td>0.018033</td>\n",
       "      <td>-0.000396</td>\n",
       "    </tr>\n",
       "    <tr>\n",
       "      <th>virginica</th>\n",
       "      <td>4</td>\n",
       "      <td>0.282320</td>\n",
       "      <td>0.241697</td>\n",
       "      <td>0.041252</td>\n",
       "      <td>-0.013504</td>\n",
       "    </tr>\n",
       "  </tbody>\n",
       "</table>\n",
       "</div>"
      ],
      "text/plain": [
       "            exp number  petal length (cm)  petal width (cm)  \\\n",
       "setosa               0          -0.172834         -0.090150   \n",
       "setosa               1          -0.200180         -0.122325   \n",
       "setosa               2          -0.291238         -0.131178   \n",
       "setosa               3          -0.301831         -0.150588   \n",
       "setosa               4          -0.125896         -0.080238   \n",
       "versicolor           0          -0.090293         -0.144014   \n",
       "versicolor           1          -0.049921         -0.070305   \n",
       "versicolor           2           0.139487         -0.005247   \n",
       "versicolor           3           0.156786          0.036237   \n",
       "versicolor           4          -0.156424         -0.161460   \n",
       "virginica            0           0.263127          0.234164   \n",
       "virginica            1           0.250101          0.192630   \n",
       "virginica            2           0.151751          0.136426   \n",
       "virginica            3           0.145045          0.114351   \n",
       "virginica            4           0.282320          0.241697   \n",
       "\n",
       "            sepal length (cm)  sepal width (cm)  \n",
       "setosa              -0.010321          0.001142  \n",
       "setosa              -0.007804         -0.000237  \n",
       "setosa              -0.017850          0.010798  \n",
       "setosa              -0.024412          0.005833  \n",
       "setosa              -0.007582          0.003000  \n",
       "versicolor          -0.025449          0.008475  \n",
       "versicolor          -0.028795          0.004112  \n",
       "versicolor          -0.004126         -0.015789  \n",
       "versicolor           0.006380         -0.005437  \n",
       "versicolor          -0.033670          0.010505  \n",
       "virginica            0.035770         -0.009617  \n",
       "virginica            0.036599         -0.003875  \n",
       "virginica            0.021976          0.004991  \n",
       "virginica            0.018033         -0.000396  \n",
       "virginica            0.041252         -0.013504  "
      ]
     },
     "execution_count": 55,
     "metadata": {},
     "output_type": "execute_result"
    }
   ],
   "source": [
    "df"
   ]
  },
  {
   "cell_type": "code",
   "execution_count": null,
   "metadata": {},
   "outputs": [],
   "source": []
  }
 ],
 "metadata": {
  "kernelspec": {
   "display_name": "Python 3",
   "language": "python",
   "name": "python3"
  },
  "language_info": {
   "codemirror_mode": {
    "name": "ipython",
    "version": 3
   },
   "file_extension": ".py",
   "mimetype": "text/x-python",
   "name": "python",
   "nbconvert_exporter": "python",
   "pygments_lexer": "ipython3",
   "version": "3.6.6"
  }
 },
 "nbformat": 4,
 "nbformat_minor": 2
}
